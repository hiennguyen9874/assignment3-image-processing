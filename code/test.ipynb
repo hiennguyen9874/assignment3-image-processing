{
 "cells": [
  {
   "cell_type": "code",
   "execution_count": 20,
   "metadata": {
    "tags": []
   },
   "outputs": [
    {
     "output_type": "stream",
     "name": "stdout",
     "text": "A: [[1 2 1]\n [3 4 1]\n [5 6 1]]\nB: [[0.1 0.2 1. ]\n [0.3 0.4 1. ]\n [0.5 0.6 1. ]]\n"
    }
   ],
   "source": [
    "import numpy as np\n",
    "arr = np.array([[1, 2],\n",
    "                [3, 4],\n",
    "                [5, 6]])\n",
    "arr_append = np.column_stack((arr, [1]*arr.shape[0]))\n",
    "print('A:', arr_append)\n",
    "\n",
    "arr1 = arr*0.1\n",
    "arr_append1 = np.column_stack((arr1, [1]*arr1.shape[0]))\n",
    "print('B:', arr_append1)\n",
    "\n",
    "\n",
    "# broadcasting\n",
    "# A: x(u, v)\n",
    "# [[u1, v1, 1],\n",
    "#  [u2, v2, 1],\n",
    "#  [u3, v3, 1]]\n",
    "\n",
    "# B: x(u', v')\n",
    "# [[u1', v1', 1],\n",
    "#  [u2', v2', 1],\n",
    "#  [u3', v3', 1]]\n",
    "\n",
    "# x'^T.F.x = 0\n",
    "\n",
    "# np.expand_dims(A, 1)\n",
    "# [[[u1, v1, 1],\n",
    "#   [u2, v2, 1],\n",
    "#   [u3, v3, 1]]]\n",
    "\n",
    "# np.expand_dims(B, 2)\n",
    "# [[[u1'],\n",
    "#   [v1'],\n",
    "#   [1]],\n",
    "\n",
    "#  [[u2'],\n",
    "#   [v2'],\n",
    "#   [1]],\n",
    "\n",
    "#  [[u3'],\n",
    "#   [v3'],\n",
    "#   [1]]]\n",
    "\n",
    "\n",
    "# pa*pb=\n",
    "# [[[u1'u1, u1'v1, u1'],\n",
    "#   [v1'u1, v1'v1, v1'],\n",
    "#   [u1, v1, 1]],\n",
    "\n",
    "#  [[u2'u2, u2'v2, u2'],\n",
    "#   [v2'u2, v2'v2, v2'],\n",
    "#   [u2, v2, 1]],\n",
    "\n",
    "#  [[u3'u3, u3'v3, u3'],\n",
    "#   [v3'u3, v3'v3, v3'],\n",
    "#   [u3, v3, 1]]]\n",
    "\n",
    "# (pa*pb).reshape(arr.shape[0], -1)\n",
    "# [[u1'u1, u1'v1, u1', v1'u1, v1'v1, v1', u1, v1, 1],\n",
    "#  [u2'u2, u2'v2, u2', v2,'u2, v2'v2, v2', u2, v2, 1],\n",
    "#  [u3'u3, u3'v3, u3', v3'u3, v3'v3, v3', u3, v3, 1]]"
   ]
  },
  {
   "cell_type": "code",
   "execution_count": 21,
   "metadata": {
    "tags": []
   },
   "outputs": [
    {
     "output_type": "stream",
     "name": "stdout",
     "text": "(3, 3, 1)\n"
    },
    {
     "output_type": "execute_result",
     "data": {
      "text/plain": "array([[[1],\n        [2],\n        [1]],\n\n       [[3],\n        [4],\n        [1]],\n\n       [[5],\n        [6],\n        [1]]])"
     },
     "metadata": {},
     "execution_count": 21
    }
   ],
   "source": [
    "pa = np.expand_dims(arr_append, 2)\n",
    "print(pa.shape)\n",
    "pa"
   ]
  },
  {
   "cell_type": "code",
   "execution_count": 22,
   "metadata": {
    "tags": []
   },
   "outputs": [
    {
     "output_type": "stream",
     "name": "stdout",
     "text": "(3, 1, 3)\n"
    },
    {
     "output_type": "execute_result",
     "data": {
      "text/plain": "array([[[0.1, 0.2, 1. ]],\n\n       [[0.3, 0.4, 1. ]],\n\n       [[0.5, 0.6, 1. ]]])"
     },
     "metadata": {},
     "execution_count": 22
    }
   ],
   "source": [
    "pb = np.expand_dims(arr_append1, 1)\n",
    "print(pb.shape)\n",
    "pb"
   ]
  },
  {
   "cell_type": "code",
   "execution_count": 23,
   "metadata": {},
   "outputs": [
    {
     "output_type": "execute_result",
     "data": {
      "text/plain": "array([[[0.1, 0.2, 1. ],\n        [0.2, 0.4, 2. ],\n        [0.1, 0.2, 1. ]],\n\n       [[0.9, 1.2, 3. ],\n        [1.2, 1.6, 4. ],\n        [0.3, 0.4, 1. ]],\n\n       [[2.5, 3. , 5. ],\n        [3. , 3.6, 6. ],\n        [0.5, 0.6, 1. ]]])"
     },
     "metadata": {},
     "execution_count": 23
    }
   ],
   "source": [
    "pc = pa*pb\n",
    "pc"
   ]
  },
  {
   "cell_type": "code",
   "execution_count": 24,
   "metadata": {},
   "outputs": [
    {
     "output_type": "execute_result",
     "data": {
      "text/plain": "array([[0.1, 0.2, 1. , 0.2, 0.4, 2. , 0.1, 0.2, 1. ],\n       [0.9, 1.2, 3. , 1.2, 1.6, 4. , 0.3, 0.4, 1. ],\n       [2.5, 3. , 5. , 3. , 3.6, 6. , 0.5, 0.6, 1. ]])"
     },
     "metadata": {},
     "execution_count": 24
    }
   ],
   "source": [
    "pc = pc.reshape(arr_append.shape[0], -1)\n",
    "pc"
   ]
  },
  {
   "cell_type": "code",
   "execution_count": 11,
   "metadata": {},
   "outputs": [
    {
     "output_type": "execute_result",
     "data": {
      "text/plain": "array([[1, 2, 3, 1],\n       [0, 0, 0, 0],\n       [4, 5, 6, 1],\n       [0, 0, 0, 0],\n       [7, 8, 9, 1],\n       [0, 0, 0, 0]])"
     },
     "metadata": {},
     "execution_count": 11
    }
   ],
   "source": [
    "arr1 = np.concatenate((arr_append, np.zeros_like(arr_append)), axis=1).reshape((-1, 4))\n",
    "arr1"
   ]
  },
  {
   "cell_type": "code",
   "execution_count": 12,
   "metadata": {},
   "outputs": [
    {
     "output_type": "execute_result",
     "data": {
      "text/plain": "array([[0, 0, 0, 0],\n       [1, 2, 3, 1],\n       [0, 0, 0, 0],\n       [4, 5, 6, 1],\n       [0, 0, 0, 0],\n       [7, 8, 9, 1]])"
     },
     "metadata": {},
     "execution_count": 12
    }
   ],
   "source": [
    "arr2 = np.concatenate((np.zeros_like(arr_append), arr_append), axis=1).reshape((-1, 4))\n",
    "arr2"
   ]
  },
  {
   "cell_type": "code",
   "execution_count": 13,
   "metadata": {},
   "outputs": [],
   "source": [
    "uv = np.array([[0.1, 0.2],\n",
    "                [0.3, 0.4],\n",
    "                [0.5, 0.6]])"
   ]
  },
  {
   "cell_type": "code",
   "execution_count": 14,
   "metadata": {},
   "outputs": [
    {
     "output_type": "execute_result",
     "data": {
      "text/plain": "array([[-0.1, -0.2, -0.3],\n       [-0.2, -0.4, -0.6],\n       [-1.2, -1.5, -1.8],\n       [-1.6, -2. , -2.4],\n       [-3.5, -4. , -4.5],\n       [-4.2, -4.8, -5.4]])"
     },
     "metadata": {},
     "execution_count": 14
    }
   ],
   "source": [
    "arr3 = -np.multiply(uv.reshape((-1, 1)).repeat(3, axis=1), arr.repeat(2, axis=0))\n",
    "arr3"
   ]
  },
  {
   "cell_type": "code",
   "execution_count": 16,
   "metadata": {},
   "outputs": [
    {
     "output_type": "execute_result",
     "data": {
      "text/plain": "array([[ 1. ,  2. ,  3. ,  1. ,  0. ,  0. ,  0. ,  0. , -0.1, -0.2, -0.3],\n       [ 0. ,  0. ,  0. ,  0. ,  1. ,  2. ,  3. ,  1. , -0.2, -0.4, -0.6],\n       [ 4. ,  5. ,  6. ,  1. ,  0. ,  0. ,  0. ,  0. , -1.2, -1.5, -1.8],\n       [ 0. ,  0. ,  0. ,  0. ,  4. ,  5. ,  6. ,  1. , -1.6, -2. , -2.4],\n       [ 7. ,  8. ,  9. ,  1. ,  0. ,  0. ,  0. ,  0. , -3.5, -4. , -4.5],\n       [ 0. ,  0. ,  0. ,  0. ,  7. ,  8. ,  9. ,  1. , -4.2, -4.8, -5.4]])"
     },
     "metadata": {},
     "execution_count": 16
    }
   ],
   "source": [
    "arr4 = np.concatenate((arr1, arr2, arr3), axis=1)\n",
    "arr4"
   ]
  },
  {
   "cell_type": "code",
   "execution_count": 18,
   "metadata": {
    "tags": []
   },
   "outputs": [
    {
     "output_type": "stream",
     "name": "stdout",
     "text": "x: [-1.38045395e+15  6.90226974e+14  0.00000000e+00  6.90226974e+14], residuals: [0.0015373], s: [-1.38045395e+15  6.90226974e+14  0.00000000e+00  6.90226974e+14]\nx: [3.68746598e-17 4.17086763e-17 5.55555556e-02 3.68698373e-17], residuals: [], s: [3.68746598e-17 4.17086763e-17 5.55555556e-02 3.68698373e-17]\n"
    }
   ],
   "source": [
    "a = np.array([[0., 1.,  0.,  1.,  2.,  0.],\n",
    "            [0., 2.,  0.,  0.,  1.,  0.],\n",
    "            [1., 0.,  1.,  0.,  0.,  4.],\n",
    "            [0., 0.,  0.,  2.,  3.,  0.]]).T\n",
    "\n",
    "b = np.array([1, 0, 0, 0, 0, 0])\n",
    "x, residuals, rank, s = np.linalg.lstsq(a, b, rcond=-1)\n",
    "print(f'x: {x}, residuals: {residuals}, s: {x}')\n",
    "x, residuals, rank, s = np.linalg.lstsq(a, b, rcond=None)\n",
    "print(f'x: {x}, residuals: {residuals}, s: {x}')"
   ]
  },
  {
   "cell_type": "code",
   "execution_count": 9,
   "metadata": {},
   "outputs": [],
   "source": [
    "import numpy as np\n",
    "\n",
    "a = np.arange(20*9).reshape(20, 9)"
   ]
  },
  {
   "cell_type": "code",
   "execution_count": 10,
   "metadata": {
    "tags": []
   },
   "outputs": [
    {
     "output_type": "stream",
     "name": "stdout",
     "text": "1\n[-5.10702591e-15 -2.22044605e-15 -8.88178420e-16  8.88178420e-16\n  5.32907052e-15 -3.55271368e-15  5.32907052e-15  1.24344979e-14\n  1.42108547e-14  1.42108547e-14  7.10542736e-15  2.48689958e-14\n  1.06581410e-14  3.55271368e-15  1.77635684e-14  2.13162821e-14\n  1.42108547e-14  3.55271368e-14  1.42108547e-14  2.84217094e-14]\n"
    }
   ],
   "source": [
    "b = a[:, 0].copy()\n",
    "# we impose a condition that first term be 1, \n",
    "x = np.linalg.lstsq(a[:, 1:], -b)[0]\n",
    "x = np.r_[1, x]\n",
    "x /= np.linalg.norm(x)\n",
    "print(np.linalg.matrix_rank(x))\n",
    "print(np.matmul(a, x))"
   ]
  },
  {
   "cell_type": "code",
   "execution_count": 22,
   "metadata": {
    "tags": []
   },
   "outputs": [
    {
     "output_type": "stream",
     "name": "stdout",
     "text": "1\n[-1.33226763e-15 -4.44089210e-15 -6.21724894e-15 -1.50990331e-14\n -2.04281037e-14 -2.30926389e-14 -2.48689958e-14 -3.01980663e-14\n -3.19744231e-14 -3.73034936e-14 -4.26325641e-14 -4.61852778e-14\n -4.61852778e-14 -4.97379915e-14 -5.68434189e-14 -6.39488462e-14\n -8.17124146e-14 -6.75015599e-14 -6.39488462e-14 -9.23705556e-14]\n"
    }
   ],
   "source": [
    "U, s, V = np.linalg.svd(a, full_matrices=False)\n",
    "x = V[-1]\n",
    "# print(x)\n",
    "print(np.linalg.matrix_rank(x))\n",
    "print(np.matmul(a, x))"
   ]
  },
  {
   "cell_type": "code",
   "execution_count": 23,
   "metadata": {
    "tags": []
   },
   "outputs": [
    {
     "output_type": "stream",
     "name": "stdout",
     "text": "[-1.33226763e-15 -4.44089210e-15 -6.21724894e-15 -1.50990331e-14\n -2.04281037e-14 -2.30926389e-14 -2.48689958e-14 -3.01980663e-14\n -3.19744231e-14 -3.73034936e-14 -4.26325641e-14 -4.61852778e-14\n -4.61852778e-14 -4.97379915e-14 -5.68434189e-14 -6.39488462e-14\n -8.17124146e-14 -6.75015599e-14 -6.39488462e-14 -9.23705556e-14]\n"
    }
   ],
   "source": [
    "U, s, V = np.linalg.svd(x.reshape((3, 3)))\n",
    "s[-1] = 0\n",
    "x = np.matmul(U, np.diagflat(s), V)\n",
    "print(np.matmul(a, x.reshape((-1))))"
   ]
  },
  {
   "cell_type": "code",
   "execution_count": 5,
   "metadata": {},
   "outputs": [
    {
     "output_type": "execute_result",
     "data": {
      "text/plain": "array([[4, 1],\n       [2, 2]])"
     },
     "metadata": {},
     "execution_count": 5
    }
   ],
   "source": [
    "import numpy as np\n",
    "\n",
    "a = np.array([[1, 0],\n",
    "             [0, 1]])\n",
    "b = np.array([[4, 1],\n",
    "              [2, 2]])\n",
    "np.matmul(a, b)"
   ]
  },
  {
   "cell_type": "code",
   "execution_count": 6,
   "metadata": {},
   "outputs": [
    {
     "output_type": "execute_result",
     "data": {
      "text/plain": "array([[4, 1],\n       [2, 2]])"
     },
     "metadata": {},
     "execution_count": 6
    }
   ],
   "source": [
    "\n",
    "a.dot(b)"
   ]
  },
  {
   "cell_type": "code",
   "execution_count": 7,
   "metadata": {},
   "outputs": [
    {
     "output_type": "execute_result",
     "data": {
      "text/plain": "array([[4, 1],\n       [2, 2]])"
     },
     "metadata": {},
     "execution_count": 7
    }
   ],
   "source": [
    "a @ b"
   ]
  },
  {
   "cell_type": "code",
   "execution_count": 4,
   "metadata": {
    "tags": []
   },
   "outputs": [
    {
     "output_type": "stream",
     "name": "stdout",
     "text": "[0. 0. 0. 0. 1. 0. 0. 0. 0. 1. 0. 0. 0. 0. 0. 0. 0. 0. 0. 0. 0. 0. 0. 0.\n 0. 0. 0. 0. 0. 0. 0. 0. 0. 0. 0. 0. 0. 0. 1. 0. 0. 0. 0. 0. 0. 0. 0. 0.\n 1.]\n[[39 39]\n [49 49]\n [ 5  5]\n [10 10]]\n"
    },
    {
     "output_type": "execute_result",
     "data": {
      "text/plain": "array([[ 1,  1],\n       [ 2,  2],\n       [ 3,  3],\n       [ 4,  4],\n       [39, 39],\n       [ 6,  6],\n       [ 7,  7],\n       [ 8,  8],\n       [ 9,  9],\n       [49, 49],\n       [11, 11],\n       [12, 12],\n       [13, 13],\n       [14, 14],\n       [15, 15],\n       [16, 16],\n       [17, 17],\n       [18, 18],\n       [19, 19],\n       [20, 20],\n       [21, 21],\n       [22, 22],\n       [23, 23],\n       [24, 24],\n       [25, 25],\n       [26, 26],\n       [27, 27],\n       [28, 28],\n       [29, 29],\n       [30, 30],\n       [31, 31],\n       [32, 32],\n       [33, 33],\n       [34, 34],\n       [35, 35],\n       [36, 36],\n       [37, 37],\n       [38, 38],\n       [ 5,  5],\n       [40, 40],\n       [41, 41],\n       [42, 42],\n       [43, 43],\n       [44, 44],\n       [45, 45],\n       [46, 46],\n       [47, 47],\n       [48, 48],\n       [10, 10]])"
     },
     "metadata": {},
     "execution_count": 4
    }
   ],
   "source": [
    "import numpy as np\n",
    "ratio = 0.1\n",
    "arr = np.tile(np.arange(1, 50).reshape(-1, 1), 2)\n",
    "\n",
    "num_noise = int(arr.shape[0] * ratio)\n",
    "temp = np.concatenate((np.ones(num_noise), np.zeros(arr.shape[0]-num_noise)), axis=0)\n",
    "np.random.shuffle(temp)\n",
    "print(temp)\n",
    "\n",
    "temp1 = arr.copy()[temp==1]\n",
    "np.random.shuffle(temp1)\n",
    "print(temp1)\n",
    "\n",
    "# for i in range(num_noise):\n",
    "#     # print(arr[np.argwhere(temp==1)[i]],\": \", temp1[i])\n",
    "#     arr[np.argwhere(temp==1)[i]] = temp1[i]\n",
    "arr[temp==1] = temp1\n",
    "arr"
   ]
  },
  {
   "cell_type": "code",
   "execution_count": null,
   "metadata": {},
   "outputs": [],
   "source": []
  },
  {
   "cell_type": "code",
   "execution_count": 3,
   "metadata": {},
   "outputs": [],
   "source": [
    "import numpy as np\n",
    "a = np.array([[1, 5], [3, 6]])"
   ]
  },
  {
   "cell_type": "code",
   "execution_count": 4,
   "metadata": {},
   "outputs": [
    {
     "output_type": "execute_result",
     "data": {
      "text/plain": "3.6875"
     },
     "metadata": {},
     "execution_count": 4
    }
   ],
   "source": [
    "np.var(a)"
   ]
  },
  {
   "cell_type": "code",
   "execution_count": 5,
   "metadata": {},
   "outputs": [
    {
     "output_type": "execute_result",
     "data": {
      "text/plain": "array([1.  , 0.25])"
     },
     "metadata": {},
     "execution_count": 5
    }
   ],
   "source": [
    "np.var(a, axis=0)"
   ]
  },
  {
   "cell_type": "code",
   "execution_count": 6,
   "metadata": {},
   "outputs": [
    {
     "output_type": "execute_result",
     "data": {
      "text/plain": "array([4.  , 2.25])"
     },
     "metadata": {},
     "execution_count": 6
    }
   ],
   "source": [
    "np.var(a, axis=1)"
   ]
  },
  {
   "cell_type": "code",
   "execution_count": 14,
   "metadata": {},
   "outputs": [
    {
     "output_type": "execute_result",
     "data": {
      "text/plain": "array([2. , 5.5])"
     },
     "metadata": {},
     "execution_count": 14
    }
   ],
   "source": [
    "a.mean(axis=0)"
   ]
  },
  {
   "cell_type": "code",
   "execution_count": 15,
   "metadata": {},
   "outputs": [
    {
     "output_type": "execute_result",
     "data": {
      "text/plain": "array([3. , 4.5])"
     },
     "metadata": {},
     "execution_count": 15
    }
   ],
   "source": [
    "a.mean(axis=1)"
   ]
  },
  {
   "cell_type": "code",
   "execution_count": 16,
   "metadata": {},
   "outputs": [
    {
     "output_type": "execute_result",
     "data": {
      "text/plain": "array([[-1. , -0.5],\n       [ 1. ,  0.5]])"
     },
     "metadata": {},
     "execution_count": 16
    }
   ],
   "source": [
    "(a-a.mean(axis=0))"
   ]
  },
  {
   "cell_type": "code",
   "execution_count": 23,
   "metadata": {},
   "outputs": [
    {
     "output_type": "execute_result",
     "data": {
      "text/plain": "array([[1.  , 0.25],\n       [1.  , 0.25]])"
     },
     "metadata": {},
     "execution_count": 23
    }
   ],
   "source": [
    "(a-a.mean(axis=0))**2"
   ]
  },
  {
   "cell_type": "code",
   "execution_count": 28,
   "metadata": {},
   "outputs": [
    {
     "output_type": "execute_result",
     "data": {
      "text/plain": "1.25"
     },
     "metadata": {},
     "execution_count": 28
    }
   ],
   "source": [
    "np.mean(np.sum((a-a.mean(axis=0))**2, axis=1), axis=0)"
   ]
  },
  {
   "cell_type": "code",
   "execution_count": 1,
   "metadata": {
    "tags": []
   },
   "outputs": [
    {
     "output_type": "stream",
     "name": "stdout",
     "text": "3\n4\n3\n"
    }
   ],
   "source": [
    "a = 3\n",
    "b = a\n",
    "print(b)\n",
    "a = 4\n",
    "print(a)\n",
    "print(b)"
   ]
  },
  {
   "cell_type": "code",
   "execution_count": null,
   "metadata": {},
   "outputs": [],
   "source": []
  }
 ],
 "metadata": {
  "language_info": {
   "codemirror_mode": {
    "name": "ipython",
    "version": 3
   },
   "file_extension": ".py",
   "mimetype": "text/x-python",
   "name": "python",
   "nbconvert_exporter": "python",
   "pygments_lexer": "ipython3",
   "version": "3.7.7-final"
  },
  "orig_nbformat": 2,
  "kernelspec": {
   "name": "python37764bitxlavenvcaadb78ad3b74683978d1e19261c12ca",
   "display_name": "Python 3.7.7 64-bit ('xla': venv)"
  }
 },
 "nbformat": 4,
 "nbformat_minor": 2
}